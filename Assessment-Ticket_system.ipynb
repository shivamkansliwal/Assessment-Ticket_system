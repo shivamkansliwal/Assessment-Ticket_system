{
 "cells": [
  {
   "cell_type": "markdown",
   "id": "f31c1f97",
   "metadata": {},
   "source": [
    "# Ticketing system"
   ]
  },
  {
   "cell_type": "code",
   "execution_count": 57,
   "id": "ac045e89",
   "metadata": {
    "scrolled": true
   },
   "outputs": [],
   "source": [
    "#import libraries\n",
    "import pandas as pd\n",
    "import matplotlib.pyplot as plt\n",
    "import seaborn as sns\n",
    "import numpy as np\n",
    "import json\n",
    "from pandas import json_normalize\n",
    "import nltk\n",
    "from nltk.corpus import stopwords\n",
    "import string\n",
    "%matplotlib inline\n",
    "import seaborn as sns\n",
    "from sklearn.feature_extraction.text import TfidfVectorizer\n",
    "from sklearn.model_selection import train_test_split\n",
    "from sklearn.metrics import confusion_matrix, classification_report\n",
    "from sklearn.naive_bayes import MultinomialNB\n",
    "import warnings\n",
    "warnings.filterwarnings('ignore')\n",
    "pd.set_option(\"display.max_columns\",None)"
   ]
  },
  {
   "cell_type": "code",
   "execution_count": 58,
   "id": "e6787ec2",
   "metadata": {
    "scrolled": true
   },
   "outputs": [],
   "source": [
    "#import the data\n",
    "df = open('client_data.json')"
   ]
  },
  {
   "cell_type": "code",
   "execution_count": 61,
   "id": "939a5a8e",
   "metadata": {
    "scrolled": true
   },
   "outputs": [],
   "source": [
    "data = json.load(df)\n",
    "df = pd.json_normalize(data)"
   ]
  },
  {
   "cell_type": "code",
   "execution_count": 62,
   "id": "21a7305b",
   "metadata": {
    "scrolled": true
   },
   "outputs": [
    {
     "data": {
      "text/html": [
       "<div>\n",
       "<style scoped>\n",
       "    .dataframe tbody tr th:only-of-type {\n",
       "        vertical-align: middle;\n",
       "    }\n",
       "\n",
       "    .dataframe tbody tr th {\n",
       "        vertical-align: top;\n",
       "    }\n",
       "\n",
       "    .dataframe thead th {\n",
       "        text-align: right;\n",
       "    }\n",
       "</style>\n",
       "<table border=\"1\" class=\"dataframe\">\n",
       "  <thead>\n",
       "    <tr style=\"text-align: right;\">\n",
       "      <th></th>\n",
       "      <th>_index</th>\n",
       "      <th>_type</th>\n",
       "      <th>_id</th>\n",
       "      <th>_score</th>\n",
       "      <th>_source.tags</th>\n",
       "      <th>_source.zip_code</th>\n",
       "      <th>_source.complaint_id</th>\n",
       "      <th>_source.issue</th>\n",
       "      <th>_source.date_received</th>\n",
       "      <th>_source.state</th>\n",
       "      <th>_source.consumer_disputed</th>\n",
       "      <th>_source.product</th>\n",
       "      <th>_source.company_response</th>\n",
       "      <th>_source.company</th>\n",
       "      <th>_source.submitted_via</th>\n",
       "      <th>_source.date_sent_to_company</th>\n",
       "      <th>_source.company_public_response</th>\n",
       "      <th>_source.sub_product</th>\n",
       "      <th>_source.timely</th>\n",
       "      <th>_source.complaint_what_happened</th>\n",
       "      <th>_source.sub_issue</th>\n",
       "      <th>_source.consumer_consent_provided</th>\n",
       "    </tr>\n",
       "  </thead>\n",
       "  <tbody>\n",
       "    <tr>\n",
       "      <th>0</th>\n",
       "      <td>complaint-public-v2</td>\n",
       "      <td>complaint</td>\n",
       "      <td>3211475</td>\n",
       "      <td>0.0</td>\n",
       "      <td>None</td>\n",
       "      <td>90301</td>\n",
       "      <td>3211475</td>\n",
       "      <td>Attempts to collect debt not owed</td>\n",
       "      <td>2019-04-13T12:00:00-05:00</td>\n",
       "      <td>CA</td>\n",
       "      <td>N/A</td>\n",
       "      <td>Debt collection</td>\n",
       "      <td>Closed with explanation</td>\n",
       "      <td>JPMORGAN CHASE &amp; CO.</td>\n",
       "      <td>Web</td>\n",
       "      <td>2019-04-13T12:00:00-05:00</td>\n",
       "      <td>None</td>\n",
       "      <td>Credit card debt</td>\n",
       "      <td>Yes</td>\n",
       "      <td></td>\n",
       "      <td>Debt is not yours</td>\n",
       "      <td>Consent not provided</td>\n",
       "    </tr>\n",
       "    <tr>\n",
       "      <th>1</th>\n",
       "      <td>complaint-public-v2</td>\n",
       "      <td>complaint</td>\n",
       "      <td>3229299</td>\n",
       "      <td>0.0</td>\n",
       "      <td>Servicemember</td>\n",
       "      <td>319XX</td>\n",
       "      <td>3229299</td>\n",
       "      <td>Written notification about debt</td>\n",
       "      <td>2019-05-01T12:00:00-05:00</td>\n",
       "      <td>GA</td>\n",
       "      <td>N/A</td>\n",
       "      <td>Debt collection</td>\n",
       "      <td>Closed with explanation</td>\n",
       "      <td>JPMORGAN CHASE &amp; CO.</td>\n",
       "      <td>Web</td>\n",
       "      <td>2019-05-01T12:00:00-05:00</td>\n",
       "      <td>None</td>\n",
       "      <td>Credit card debt</td>\n",
       "      <td>Yes</td>\n",
       "      <td>Good morning my name is XXXX XXXX and I apprec...</td>\n",
       "      <td>Didn't receive enough information to verify debt</td>\n",
       "      <td>Consent provided</td>\n",
       "    </tr>\n",
       "    <tr>\n",
       "      <th>2</th>\n",
       "      <td>complaint-public-v2</td>\n",
       "      <td>complaint</td>\n",
       "      <td>3199379</td>\n",
       "      <td>0.0</td>\n",
       "      <td>None</td>\n",
       "      <td>77069</td>\n",
       "      <td>3199379</td>\n",
       "      <td>Other features, terms, or problems</td>\n",
       "      <td>2019-04-02T12:00:00-05:00</td>\n",
       "      <td>TX</td>\n",
       "      <td>N/A</td>\n",
       "      <td>Credit card or prepaid card</td>\n",
       "      <td>Closed with explanation</td>\n",
       "      <td>JPMORGAN CHASE &amp; CO.</td>\n",
       "      <td>Web</td>\n",
       "      <td>2019-04-02T12:00:00-05:00</td>\n",
       "      <td>None</td>\n",
       "      <td>General-purpose credit card or charge card</td>\n",
       "      <td>Yes</td>\n",
       "      <td>I upgraded my XXXX XXXX card in XX/XX/2018 and...</td>\n",
       "      <td>Problem with rewards from credit card</td>\n",
       "      <td>Consent provided</td>\n",
       "    </tr>\n",
       "    <tr>\n",
       "      <th>3</th>\n",
       "      <td>complaint-public-v2</td>\n",
       "      <td>complaint</td>\n",
       "      <td>2673060</td>\n",
       "      <td>0.0</td>\n",
       "      <td>None</td>\n",
       "      <td>48066</td>\n",
       "      <td>2673060</td>\n",
       "      <td>Trouble during payment process</td>\n",
       "      <td>2017-09-13T12:00:00-05:00</td>\n",
       "      <td>MI</td>\n",
       "      <td>N/A</td>\n",
       "      <td>Mortgage</td>\n",
       "      <td>Closed with explanation</td>\n",
       "      <td>JPMORGAN CHASE &amp; CO.</td>\n",
       "      <td>Web</td>\n",
       "      <td>2017-09-14T12:00:00-05:00</td>\n",
       "      <td>None</td>\n",
       "      <td>Conventional home mortgage</td>\n",
       "      <td>Yes</td>\n",
       "      <td></td>\n",
       "      <td>None</td>\n",
       "      <td>Consent not provided</td>\n",
       "    </tr>\n",
       "  </tbody>\n",
       "</table>\n",
       "</div>"
      ],
      "text/plain": [
       "                _index      _type      _id  _score   _source.tags  \\\n",
       "0  complaint-public-v2  complaint  3211475     0.0           None   \n",
       "1  complaint-public-v2  complaint  3229299     0.0  Servicemember   \n",
       "2  complaint-public-v2  complaint  3199379     0.0           None   \n",
       "3  complaint-public-v2  complaint  2673060     0.0           None   \n",
       "\n",
       "  _source.zip_code _source.complaint_id                       _source.issue  \\\n",
       "0            90301              3211475   Attempts to collect debt not owed   \n",
       "1            319XX              3229299     Written notification about debt   \n",
       "2            77069              3199379  Other features, terms, or problems   \n",
       "3            48066              2673060      Trouble during payment process   \n",
       "\n",
       "       _source.date_received _source.state _source.consumer_disputed  \\\n",
       "0  2019-04-13T12:00:00-05:00            CA                       N/A   \n",
       "1  2019-05-01T12:00:00-05:00            GA                       N/A   \n",
       "2  2019-04-02T12:00:00-05:00            TX                       N/A   \n",
       "3  2017-09-13T12:00:00-05:00            MI                       N/A   \n",
       "\n",
       "               _source.product _source.company_response       _source.company  \\\n",
       "0              Debt collection  Closed with explanation  JPMORGAN CHASE & CO.   \n",
       "1              Debt collection  Closed with explanation  JPMORGAN CHASE & CO.   \n",
       "2  Credit card or prepaid card  Closed with explanation  JPMORGAN CHASE & CO.   \n",
       "3                     Mortgage  Closed with explanation  JPMORGAN CHASE & CO.   \n",
       "\n",
       "  _source.submitted_via _source.date_sent_to_company  \\\n",
       "0                   Web    2019-04-13T12:00:00-05:00   \n",
       "1                   Web    2019-05-01T12:00:00-05:00   \n",
       "2                   Web    2019-04-02T12:00:00-05:00   \n",
       "3                   Web    2017-09-14T12:00:00-05:00   \n",
       "\n",
       "  _source.company_public_response                         _source.sub_product  \\\n",
       "0                            None                            Credit card debt   \n",
       "1                            None                            Credit card debt   \n",
       "2                            None  General-purpose credit card or charge card   \n",
       "3                            None                  Conventional home mortgage   \n",
       "\n",
       "  _source.timely                    _source.complaint_what_happened  \\\n",
       "0            Yes                                                      \n",
       "1            Yes  Good morning my name is XXXX XXXX and I apprec...   \n",
       "2            Yes  I upgraded my XXXX XXXX card in XX/XX/2018 and...   \n",
       "3            Yes                                                      \n",
       "\n",
       "                                  _source.sub_issue  \\\n",
       "0                                 Debt is not yours   \n",
       "1  Didn't receive enough information to verify debt   \n",
       "2             Problem with rewards from credit card   \n",
       "3                                              None   \n",
       "\n",
       "  _source.consumer_consent_provided  \n",
       "0              Consent not provided  \n",
       "1                  Consent provided  \n",
       "2                  Consent provided  \n",
       "3              Consent not provided  "
      ]
     },
     "execution_count": 62,
     "metadata": {},
     "output_type": "execute_result"
    }
   ],
   "source": [
    "df.head(4)"
   ]
  },
  {
   "cell_type": "code",
   "execution_count": 63,
   "id": "68cc94a0",
   "metadata": {
    "scrolled": true
   },
   "outputs": [
    {
     "data": {
      "text/plain": [
       "Index(['_index', '_type', '_id', '_score', '_source.tags', '_source.zip_code',\n",
       "       '_source.complaint_id', '_source.issue', '_source.date_received',\n",
       "       '_source.state', '_source.consumer_disputed', '_source.product',\n",
       "       '_source.company_response', '_source.company', '_source.submitted_via',\n",
       "       '_source.date_sent_to_company', '_source.company_public_response',\n",
       "       '_source.sub_product', '_source.timely',\n",
       "       '_source.complaint_what_happened', '_source.sub_issue',\n",
       "       '_source.consumer_consent_provided'],\n",
       "      dtype='object')"
      ]
     },
     "execution_count": 63,
     "metadata": {},
     "output_type": "execute_result"
    }
   ],
   "source": [
    "df.columns"
   ]
  },
  {
   "cell_type": "code",
   "execution_count": 64,
   "id": "f08f7395",
   "metadata": {
    "scrolled": true
   },
   "outputs": [
    {
     "name": "stdout",
     "output_type": "stream",
     "text": [
      "78313\n"
     ]
    }
   ],
   "source": [
    "print(len(df))"
   ]
  },
  {
   "cell_type": "code",
   "execution_count": 65,
   "id": "3c65c449",
   "metadata": {
    "scrolled": true
   },
   "outputs": [
    {
     "data": {
      "text/plain": [
       "(78313, 22)"
      ]
     },
     "execution_count": 65,
     "metadata": {},
     "output_type": "execute_result"
    }
   ],
   "source": [
    "df.shape"
   ]
  },
  {
   "cell_type": "code",
   "execution_count": 66,
   "id": "c703fd86",
   "metadata": {
    "scrolled": true
   },
   "outputs": [
    {
     "name": "stdout",
     "output_type": "stream",
     "text": [
      "<class 'pandas.core.frame.DataFrame'>\n",
      "RangeIndex: 78313 entries, 0 to 78312\n",
      "Data columns (total 22 columns):\n",
      " #   Column                             Non-Null Count  Dtype  \n",
      "---  ------                             --------------  -----  \n",
      " 0   _index                             78313 non-null  object \n",
      " 1   _type                              78313 non-null  object \n",
      " 2   _id                                78313 non-null  object \n",
      " 3   _score                             78313 non-null  float64\n",
      " 4   _source.tags                       10900 non-null  object \n",
      " 5   _source.zip_code                   71556 non-null  object \n",
      " 6   _source.complaint_id               78313 non-null  object \n",
      " 7   _source.issue                      78313 non-null  object \n",
      " 8   _source.date_received              78313 non-null  object \n",
      " 9   _source.state                      76322 non-null  object \n",
      " 10  _source.consumer_disputed          78313 non-null  object \n",
      " 11  _source.product                    78313 non-null  object \n",
      " 12  _source.company_response           78313 non-null  object \n",
      " 13  _source.company                    78313 non-null  object \n",
      " 14  _source.submitted_via              78313 non-null  object \n",
      " 15  _source.date_sent_to_company       78313 non-null  object \n",
      " 16  _source.company_public_response    4 non-null      object \n",
      " 17  _source.sub_product                67742 non-null  object \n",
      " 18  _source.timely                     78313 non-null  object \n",
      " 19  _source.complaint_what_happened    78313 non-null  object \n",
      " 20  _source.sub_issue                  32016 non-null  object \n",
      " 21  _source.consumer_consent_provided  77305 non-null  object \n",
      "dtypes: float64(1), object(21)\n",
      "memory usage: 13.1+ MB\n"
     ]
    }
   ],
   "source": [
    "df.info()"
   ]
  },
  {
   "cell_type": "code",
   "execution_count": 67,
   "id": "c197bd64",
   "metadata": {
    "scrolled": true
   },
   "outputs": [
    {
     "data": {
      "text/plain": [
       "_index                                object\n",
       "_type                                 object\n",
       "_id                                   object\n",
       "_score                               float64\n",
       "_source.tags                          object\n",
       "_source.zip_code                      object\n",
       "_source.complaint_id                  object\n",
       "_source.issue                         object\n",
       "_source.date_received                 object\n",
       "_source.state                         object\n",
       "_source.consumer_disputed             object\n",
       "_source.product                       object\n",
       "_source.company_response              object\n",
       "_source.company                       object\n",
       "_source.submitted_via                 object\n",
       "_source.date_sent_to_company          object\n",
       "_source.company_public_response       object\n",
       "_source.sub_product                   object\n",
       "_source.timely                        object\n",
       "_source.complaint_what_happened       object\n",
       "_source.sub_issue                     object\n",
       "_source.consumer_consent_provided     object\n",
       "dtype: object"
      ]
     },
     "execution_count": 67,
     "metadata": {},
     "output_type": "execute_result"
    }
   ],
   "source": [
    "df.dtypes"
   ]
  },
  {
   "cell_type": "code",
   "execution_count": 68,
   "id": "ecd141ae",
   "metadata": {
    "scrolled": true
   },
   "outputs": [
    {
     "data": {
      "text/html": [
       "<div>\n",
       "<style scoped>\n",
       "    .dataframe tbody tr th:only-of-type {\n",
       "        vertical-align: middle;\n",
       "    }\n",
       "\n",
       "    .dataframe tbody tr th {\n",
       "        vertical-align: top;\n",
       "    }\n",
       "\n",
       "    .dataframe thead th {\n",
       "        text-align: right;\n",
       "    }\n",
       "</style>\n",
       "<table border=\"1\" class=\"dataframe\">\n",
       "  <thead>\n",
       "    <tr style=\"text-align: right;\">\n",
       "      <th></th>\n",
       "      <th>sub_product</th>\n",
       "      <th>complaint_what_happened</th>\n",
       "      <th>sub_issue</th>\n",
       "    </tr>\n",
       "  </thead>\n",
       "  <tbody>\n",
       "    <tr>\n",
       "      <th>0</th>\n",
       "      <td>Credit card debt</td>\n",
       "      <td></td>\n",
       "      <td>Debt is not yours</td>\n",
       "    </tr>\n",
       "    <tr>\n",
       "      <th>1</th>\n",
       "      <td>Credit card debt</td>\n",
       "      <td>Good morning my name is XXXX XXXX and I apprec...</td>\n",
       "      <td>Didn't receive enough information to verify debt</td>\n",
       "    </tr>\n",
       "    <tr>\n",
       "      <th>2</th>\n",
       "      <td>General-purpose credit card or charge card</td>\n",
       "      <td>I upgraded my XXXX XXXX card in XX/XX/2018 and...</td>\n",
       "      <td>Problem with rewards from credit card</td>\n",
       "    </tr>\n",
       "    <tr>\n",
       "      <th>3</th>\n",
       "      <td>Conventional home mortgage</td>\n",
       "      <td></td>\n",
       "      <td>None</td>\n",
       "    </tr>\n",
       "    <tr>\n",
       "      <th>4</th>\n",
       "      <td>General-purpose credit card or charge card</td>\n",
       "      <td></td>\n",
       "      <td>Charged too much interest</td>\n",
       "    </tr>\n",
       "    <tr>\n",
       "      <th>5</th>\n",
       "      <td>Checking account</td>\n",
       "      <td></td>\n",
       "      <td>Problem using a debit or ATM card</td>\n",
       "    </tr>\n",
       "    <tr>\n",
       "      <th>6</th>\n",
       "      <td>Checking account</td>\n",
       "      <td></td>\n",
       "      <td>Problem using a debit or ATM card</td>\n",
       "    </tr>\n",
       "    <tr>\n",
       "      <th>7</th>\n",
       "      <td>Conventional home mortgage</td>\n",
       "      <td></td>\n",
       "      <td>None</td>\n",
       "    </tr>\n",
       "    <tr>\n",
       "      <th>8</th>\n",
       "      <td>Checking account</td>\n",
       "      <td></td>\n",
       "      <td>Company closed your account</td>\n",
       "    </tr>\n",
       "    <tr>\n",
       "      <th>9</th>\n",
       "      <td>Checking account</td>\n",
       "      <td></td>\n",
       "      <td>Cashing a check</td>\n",
       "    </tr>\n",
       "  </tbody>\n",
       "</table>\n",
       "</div>"
      ],
      "text/plain": [
       "                                  sub_product  \\\n",
       "0                            Credit card debt   \n",
       "1                            Credit card debt   \n",
       "2  General-purpose credit card or charge card   \n",
       "3                  Conventional home mortgage   \n",
       "4  General-purpose credit card or charge card   \n",
       "5                            Checking account   \n",
       "6                            Checking account   \n",
       "7                  Conventional home mortgage   \n",
       "8                            Checking account   \n",
       "9                            Checking account   \n",
       "\n",
       "                             complaint_what_happened  \\\n",
       "0                                                      \n",
       "1  Good morning my name is XXXX XXXX and I apprec...   \n",
       "2  I upgraded my XXXX XXXX card in XX/XX/2018 and...   \n",
       "3                                                      \n",
       "4                                                      \n",
       "5                                                      \n",
       "6                                                      \n",
       "7                                                      \n",
       "8                                                      \n",
       "9                                                      \n",
       "\n",
       "                                          sub_issue  \n",
       "0                                 Debt is not yours  \n",
       "1  Didn't receive enough information to verify debt  \n",
       "2             Problem with rewards from credit card  \n",
       "3                                              None  \n",
       "4                         Charged too much interest  \n",
       "5                 Problem using a debit or ATM card  \n",
       "6                 Problem using a debit or ATM card  \n",
       "7                                              None  \n",
       "8                       Company closed your account  \n",
       "9                                   Cashing a check  "
      ]
     },
     "execution_count": 68,
     "metadata": {},
     "output_type": "execute_result"
    }
   ],
   "source": [
    "# creating new dataset using required columns\n",
    "data = df[['_source.sub_product','_source.complaint_what_happened','_source.sub_issue']]\n",
    "data.columns = ['sub_product','complaint_what_happened','sub_issue']\n",
    "data.head(10)"
   ]
  },
  {
   "cell_type": "code",
   "execution_count": 69,
   "id": "a9fa38d9",
   "metadata": {
    "scrolled": true
   },
   "outputs": [
    {
     "data": {
      "text/plain": [
       "57241"
      ]
     },
     "execution_count": 69,
     "metadata": {},
     "output_type": "execute_result"
    }
   ],
   "source": [
    "#checking how many rows are there\n",
    "len(data[data['complaint_what_happened'] == \"\"])"
   ]
  },
  {
   "cell_type": "code",
   "execution_count": 70,
   "id": "48ee19db",
   "metadata": {
    "scrolled": true
   },
   "outputs": [
    {
     "data": {
      "text/plain": [
       "(78313,)"
      ]
     },
     "execution_count": 70,
     "metadata": {},
     "output_type": "execute_result"
    }
   ],
   "source": [
    "data['complaint_what_happened'].shape\n"
   ]
  },
  {
   "cell_type": "code",
   "execution_count": 71,
   "id": "908e4549",
   "metadata": {
    "scrolled": true
   },
   "outputs": [],
   "source": [
    "data['complaint_what_happened'].replace('',np.nan,inplace=True)"
   ]
  },
  {
   "cell_type": "code",
   "execution_count": 72,
   "id": "d0fc9713",
   "metadata": {
    "scrolled": true
   },
   "outputs": [],
   "source": [
    "data.dropna(subset=['complaint_what_happened'],inplace=True)"
   ]
  },
  {
   "cell_type": "code",
   "execution_count": 73,
   "id": "3c4f0242",
   "metadata": {
    "scrolled": true
   },
   "outputs": [
    {
     "data": {
      "text/plain": [
       "(21072,)"
      ]
     },
     "execution_count": 73,
     "metadata": {},
     "output_type": "execute_result"
    }
   ],
   "source": [
    "data['complaint_what_happened'].shape"
   ]
  },
  {
   "cell_type": "markdown",
   "id": "0c8d04ed",
   "metadata": {},
   "source": [
    "# Text processing"
   ]
  },
  {
   "cell_type": "code",
   "execution_count": 74,
   "id": "63c03ee3",
   "metadata": {
    "scrolled": true
   },
   "outputs": [
    {
     "data": {
      "text/html": [
       "<div>\n",
       "<style scoped>\n",
       "    .dataframe tbody tr th:only-of-type {\n",
       "        vertical-align: middle;\n",
       "    }\n",
       "\n",
       "    .dataframe tbody tr th {\n",
       "        vertical-align: top;\n",
       "    }\n",
       "\n",
       "    .dataframe thead th {\n",
       "        text-align: right;\n",
       "    }\n",
       "</style>\n",
       "<table border=\"1\" class=\"dataframe\">\n",
       "  <thead>\n",
       "    <tr style=\"text-align: right;\">\n",
       "      <th></th>\n",
       "      <th>sub_product</th>\n",
       "      <th>complaint_what_happened</th>\n",
       "      <th>sub_issue</th>\n",
       "    </tr>\n",
       "  </thead>\n",
       "  <tbody>\n",
       "    <tr>\n",
       "      <th>1</th>\n",
       "      <td>Credit card debt</td>\n",
       "      <td>Good morning name XXXX XXXX I appreciate could...</td>\n",
       "      <td>Didn't receive enough information verify debt</td>\n",
       "    </tr>\n",
       "    <tr>\n",
       "      <th>2</th>\n",
       "      <td>General-purpose credit card charge card</td>\n",
       "      <td>I upgraded XXXX XXXX card XX/XX/2018 told agen...</td>\n",
       "      <td>Problem rewards credit card</td>\n",
       "    </tr>\n",
       "    <tr>\n",
       "      <th>10</th>\n",
       "      <td>Other personal consumer report</td>\n",
       "      <td>Chase Card reported XX/XX/2019. However, fraud...</td>\n",
       "      <td>Information belongs someone else</td>\n",
       "    </tr>\n",
       "    <tr>\n",
       "      <th>11</th>\n",
       "      <td>Credit reporting</td>\n",
       "      <td>On XX/XX/2018, trying book XXXX XXXX ticket, I...</td>\n",
       "      <td>Information belongs someone else</td>\n",
       "    </tr>\n",
       "    <tr>\n",
       "      <th>14</th>\n",
       "      <td>Checking account</td>\n",
       "      <td>grand son give check {$1600.00} deposit chase ...</td>\n",
       "      <td>Funds handled disbursed instructed</td>\n",
       "    </tr>\n",
       "  </tbody>\n",
       "</table>\n",
       "</div>"
      ],
      "text/plain": [
       "                                sub_product  \\\n",
       "1                          Credit card debt   \n",
       "2   General-purpose credit card charge card   \n",
       "10           Other personal consumer report   \n",
       "11                         Credit reporting   \n",
       "14                         Checking account   \n",
       "\n",
       "                              complaint_what_happened  \\\n",
       "1   Good morning name XXXX XXXX I appreciate could...   \n",
       "2   I upgraded XXXX XXXX card XX/XX/2018 told agen...   \n",
       "10  Chase Card reported XX/XX/2019. However, fraud...   \n",
       "11  On XX/XX/2018, trying book XXXX XXXX ticket, I...   \n",
       "14  grand son give check {$1600.00} deposit chase ...   \n",
       "\n",
       "                                        sub_issue  \n",
       "1   Didn't receive enough information verify debt  \n",
       "2                     Problem rewards credit card  \n",
       "10               Information belongs someone else  \n",
       "11               Information belongs someone else  \n",
       "14             Funds handled disbursed instructed  "
      ]
     },
     "execution_count": 74,
     "metadata": {},
     "output_type": "execute_result"
    }
   ],
   "source": [
    "# removing stopwords \n",
    "\n",
    "stop_words = set(stopwords.words('English'))\n",
    "\n",
    "def cleaning_stopwords(text):\n",
    "    return \" \".join([word for word in str(text).split() if word not in stop_words])\n",
    "\n",
    "data['sub_product'] = data['sub_product'].apply(lambda text: cleaning_stopwords(text))\n",
    "data['complaint_what_happened'] = data['complaint_what_happened'].apply(lambda text: cleaning_stopwords(text))\n",
    "data['sub_issue'] = data['sub_issue'].apply(lambda text: cleaning_stopwords(text))\n",
    "data.head()"
   ]
  },
  {
   "cell_type": "markdown",
   "id": "9629124d",
   "metadata": {},
   "source": [
    "# removing punctuation"
   ]
  },
  {
   "cell_type": "code",
   "execution_count": 75,
   "id": "8288fc6f",
   "metadata": {
    "scrolled": true
   },
   "outputs": [],
   "source": [
    "regular_punct = list(string.punctuation)\n",
    "\n",
    "\n",
    "def remove_punctuation(text,punct_list):\n",
    "    for punc in punct_list:\n",
    "        if punc in text:\n",
    "            text = text.replace(punc, ' ')\n",
    "    return text.strip()\n",
    "data['complaint_what_happened'] = data['complaint_what_happened'].apply(lambda text: remove_punctuation(text,regular_punct))\n"
   ]
  },
  {
   "cell_type": "code",
   "execution_count": 76,
   "id": "350b2ccd",
   "metadata": {
    "scrolled": true
   },
   "outputs": [
    {
     "data": {
      "text/html": [
       "<div>\n",
       "<style scoped>\n",
       "    .dataframe tbody tr th:only-of-type {\n",
       "        vertical-align: middle;\n",
       "    }\n",
       "\n",
       "    .dataframe tbody tr th {\n",
       "        vertical-align: top;\n",
       "    }\n",
       "\n",
       "    .dataframe thead th {\n",
       "        text-align: right;\n",
       "    }\n",
       "</style>\n",
       "<table border=\"1\" class=\"dataframe\">\n",
       "  <thead>\n",
       "    <tr style=\"text-align: right;\">\n",
       "      <th></th>\n",
       "      <th>sub_product</th>\n",
       "      <th>complaint_what_happened</th>\n",
       "      <th>sub_issue</th>\n",
       "    </tr>\n",
       "  </thead>\n",
       "  <tbody>\n",
       "    <tr>\n",
       "      <th>1</th>\n",
       "      <td>Credit card debt</td>\n",
       "      <td>Good morning name XXXX XXXX I appreciate could...</td>\n",
       "      <td>Didn't receive enough information verify debt</td>\n",
       "    </tr>\n",
       "    <tr>\n",
       "      <th>2</th>\n",
       "      <td>General-purpose credit card charge card</td>\n",
       "      <td>I upgraded XXXX XXXX card XX XX 2018 told agen...</td>\n",
       "      <td>Problem rewards credit card</td>\n",
       "    </tr>\n",
       "    <tr>\n",
       "      <th>10</th>\n",
       "      <td>Other personal consumer report</td>\n",
       "      <td>Chase Card reported XX XX 2019  However  fraud...</td>\n",
       "      <td>Information belongs someone else</td>\n",
       "    </tr>\n",
       "    <tr>\n",
       "      <th>11</th>\n",
       "      <td>Credit reporting</td>\n",
       "      <td>On XX XX 2018  trying book XXXX XXXX ticket  I...</td>\n",
       "      <td>Information belongs someone else</td>\n",
       "    </tr>\n",
       "    <tr>\n",
       "      <th>14</th>\n",
       "      <td>Checking account</td>\n",
       "      <td>grand son give check   1600 00  deposit chase ...</td>\n",
       "      <td>Funds handled disbursed instructed</td>\n",
       "    </tr>\n",
       "    <tr>\n",
       "      <th>...</th>\n",
       "      <td>...</td>\n",
       "      <td>...</td>\n",
       "      <td>...</td>\n",
       "    </tr>\n",
       "    <tr>\n",
       "      <th>78303</th>\n",
       "      <td>General-purpose credit card charge card</td>\n",
       "      <td>After Chase Card customer well decade  offered...</td>\n",
       "      <td>Didn't receive advertised promotional terms</td>\n",
       "    </tr>\n",
       "    <tr>\n",
       "      <th>78309</th>\n",
       "      <td>General-purpose credit card charge card</td>\n",
       "      <td>On Wednesday  XX XX XXXX I called Chas  XXXX X...</td>\n",
       "      <td>Other problem</td>\n",
       "    </tr>\n",
       "    <tr>\n",
       "      <th>78310</th>\n",
       "      <td>Checking account</td>\n",
       "      <td>I familiar XXXX pay understand great risk prov...</td>\n",
       "      <td>Transaction authorized</td>\n",
       "    </tr>\n",
       "    <tr>\n",
       "      <th>78311</th>\n",
       "      <td>General-purpose credit card charge card</td>\n",
       "      <td>I flawless credit 30 yrs  I ve Chase credit ca...</td>\n",
       "      <td>Problem balance transfer</td>\n",
       "    </tr>\n",
       "    <tr>\n",
       "      <th>78312</th>\n",
       "      <td>None</td>\n",
       "      <td>Roughly 10  years ago I closed accounts JP Mor...</td>\n",
       "      <td>None</td>\n",
       "    </tr>\n",
       "  </tbody>\n",
       "</table>\n",
       "<p>21072 rows × 3 columns</p>\n",
       "</div>"
      ],
      "text/plain": [
       "                                   sub_product  \\\n",
       "1                             Credit card debt   \n",
       "2      General-purpose credit card charge card   \n",
       "10              Other personal consumer report   \n",
       "11                            Credit reporting   \n",
       "14                            Checking account   \n",
       "...                                        ...   \n",
       "78303  General-purpose credit card charge card   \n",
       "78309  General-purpose credit card charge card   \n",
       "78310                         Checking account   \n",
       "78311  General-purpose credit card charge card   \n",
       "78312                                     None   \n",
       "\n",
       "                                 complaint_what_happened  \\\n",
       "1      Good morning name XXXX XXXX I appreciate could...   \n",
       "2      I upgraded XXXX XXXX card XX XX 2018 told agen...   \n",
       "10     Chase Card reported XX XX 2019  However  fraud...   \n",
       "11     On XX XX 2018  trying book XXXX XXXX ticket  I...   \n",
       "14     grand son give check   1600 00  deposit chase ...   \n",
       "...                                                  ...   \n",
       "78303  After Chase Card customer well decade  offered...   \n",
       "78309  On Wednesday  XX XX XXXX I called Chas  XXXX X...   \n",
       "78310  I familiar XXXX pay understand great risk prov...   \n",
       "78311  I flawless credit 30 yrs  I ve Chase credit ca...   \n",
       "78312  Roughly 10  years ago I closed accounts JP Mor...   \n",
       "\n",
       "                                           sub_issue  \n",
       "1      Didn't receive enough information verify debt  \n",
       "2                        Problem rewards credit card  \n",
       "10                  Information belongs someone else  \n",
       "11                  Information belongs someone else  \n",
       "14                Funds handled disbursed instructed  \n",
       "...                                              ...  \n",
       "78303    Didn't receive advertised promotional terms  \n",
       "78309                                  Other problem  \n",
       "78310                         Transaction authorized  \n",
       "78311                       Problem balance transfer  \n",
       "78312                                           None  \n",
       "\n",
       "[21072 rows x 3 columns]"
      ]
     },
     "execution_count": 76,
     "metadata": {},
     "output_type": "execute_result"
    }
   ],
   "source": [
    "data"
   ]
  },
  {
   "cell_type": "code",
   "execution_count": 77,
   "id": "4ab94707",
   "metadata": {
    "scrolled": true
   },
   "outputs": [],
   "source": [
    "#import regular expression\n",
    "import re"
   ]
  },
  {
   "cell_type": "code",
   "execution_count": 78,
   "id": "cfe5f0b0",
   "metadata": {
    "scrolled": true
   },
   "outputs": [],
   "source": [
    "#removing numeric data\n",
    "\n",
    "def remove_numeric(text):\n",
    "    \n",
    "    return re.sub(r'[0-9]*','',text)\n"
   ]
  },
  {
   "cell_type": "code",
   "execution_count": 79,
   "id": "70fb70cd",
   "metadata": {
    "scrolled": true
   },
   "outputs": [],
   "source": [
    "data['complaint_what_happened']=data['complaint_what_happened'].apply(lambda text: remove_numeric(text))"
   ]
  },
  {
   "cell_type": "code",
   "execution_count": 80,
   "id": "a62680b7",
   "metadata": {
    "scrolled": true
   },
   "outputs": [
    {
     "data": {
      "text/html": [
       "<div>\n",
       "<style scoped>\n",
       "    .dataframe tbody tr th:only-of-type {\n",
       "        vertical-align: middle;\n",
       "    }\n",
       "\n",
       "    .dataframe tbody tr th {\n",
       "        vertical-align: top;\n",
       "    }\n",
       "\n",
       "    .dataframe thead th {\n",
       "        text-align: right;\n",
       "    }\n",
       "</style>\n",
       "<table border=\"1\" class=\"dataframe\">\n",
       "  <thead>\n",
       "    <tr style=\"text-align: right;\">\n",
       "      <th></th>\n",
       "      <th>sub_product</th>\n",
       "      <th>complaint_what_happened</th>\n",
       "      <th>sub_issue</th>\n",
       "    </tr>\n",
       "  </thead>\n",
       "  <tbody>\n",
       "    <tr>\n",
       "      <th>1</th>\n",
       "      <td>Credit card debt</td>\n",
       "      <td>Good morning name XXXX XXXX I appreciate could...</td>\n",
       "      <td>Didn't receive enough information verify debt</td>\n",
       "    </tr>\n",
       "    <tr>\n",
       "      <th>2</th>\n",
       "      <td>General-purpose credit card charge card</td>\n",
       "      <td>I upgraded XXXX XXXX card XX XX  told agent up...</td>\n",
       "      <td>Problem rewards credit card</td>\n",
       "    </tr>\n",
       "    <tr>\n",
       "      <th>10</th>\n",
       "      <td>Other personal consumer report</td>\n",
       "      <td>Chase Card reported XX XX   However  fraudulen...</td>\n",
       "      <td>Information belongs someone else</td>\n",
       "    </tr>\n",
       "    <tr>\n",
       "      <th>11</th>\n",
       "      <td>Credit reporting</td>\n",
       "      <td>On XX XX   trying book XXXX XXXX ticket  I cam...</td>\n",
       "      <td>Information belongs someone else</td>\n",
       "    </tr>\n",
       "    <tr>\n",
       "      <th>14</th>\n",
       "      <td>Checking account</td>\n",
       "      <td>grand son give check      deposit chase accoun...</td>\n",
       "      <td>Funds handled disbursed instructed</td>\n",
       "    </tr>\n",
       "    <tr>\n",
       "      <th>...</th>\n",
       "      <td>...</td>\n",
       "      <td>...</td>\n",
       "      <td>...</td>\n",
       "    </tr>\n",
       "    <tr>\n",
       "      <th>78303</th>\n",
       "      <td>General-purpose credit card charge card</td>\n",
       "      <td>After Chase Card customer well decade  offered...</td>\n",
       "      <td>Didn't receive advertised promotional terms</td>\n",
       "    </tr>\n",
       "    <tr>\n",
       "      <th>78309</th>\n",
       "      <td>General-purpose credit card charge card</td>\n",
       "      <td>On Wednesday  XX XX XXXX I called Chas  XXXX X...</td>\n",
       "      <td>Other problem</td>\n",
       "    </tr>\n",
       "    <tr>\n",
       "      <th>78310</th>\n",
       "      <td>Checking account</td>\n",
       "      <td>I familiar XXXX pay understand great risk prov...</td>\n",
       "      <td>Transaction authorized</td>\n",
       "    </tr>\n",
       "    <tr>\n",
       "      <th>78311</th>\n",
       "      <td>General-purpose credit card charge card</td>\n",
       "      <td>I flawless credit  yrs  I ve Chase credit card...</td>\n",
       "      <td>Problem balance transfer</td>\n",
       "    </tr>\n",
       "    <tr>\n",
       "      <th>78312</th>\n",
       "      <td>None</td>\n",
       "      <td>Roughly   years ago I closed accounts JP Morga...</td>\n",
       "      <td>None</td>\n",
       "    </tr>\n",
       "  </tbody>\n",
       "</table>\n",
       "<p>21072 rows × 3 columns</p>\n",
       "</div>"
      ],
      "text/plain": [
       "                                   sub_product  \\\n",
       "1                             Credit card debt   \n",
       "2      General-purpose credit card charge card   \n",
       "10              Other personal consumer report   \n",
       "11                            Credit reporting   \n",
       "14                            Checking account   \n",
       "...                                        ...   \n",
       "78303  General-purpose credit card charge card   \n",
       "78309  General-purpose credit card charge card   \n",
       "78310                         Checking account   \n",
       "78311  General-purpose credit card charge card   \n",
       "78312                                     None   \n",
       "\n",
       "                                 complaint_what_happened  \\\n",
       "1      Good morning name XXXX XXXX I appreciate could...   \n",
       "2      I upgraded XXXX XXXX card XX XX  told agent up...   \n",
       "10     Chase Card reported XX XX   However  fraudulen...   \n",
       "11     On XX XX   trying book XXXX XXXX ticket  I cam...   \n",
       "14     grand son give check      deposit chase accoun...   \n",
       "...                                                  ...   \n",
       "78303  After Chase Card customer well decade  offered...   \n",
       "78309  On Wednesday  XX XX XXXX I called Chas  XXXX X...   \n",
       "78310  I familiar XXXX pay understand great risk prov...   \n",
       "78311  I flawless credit  yrs  I ve Chase credit card...   \n",
       "78312  Roughly   years ago I closed accounts JP Morga...   \n",
       "\n",
       "                                           sub_issue  \n",
       "1      Didn't receive enough information verify debt  \n",
       "2                        Problem rewards credit card  \n",
       "10                  Information belongs someone else  \n",
       "11                  Information belongs someone else  \n",
       "14                Funds handled disbursed instructed  \n",
       "...                                              ...  \n",
       "78303    Didn't receive advertised promotional terms  \n",
       "78309                                  Other problem  \n",
       "78310                         Transaction authorized  \n",
       "78311                       Problem balance transfer  \n",
       "78312                                           None  \n",
       "\n",
       "[21072 rows x 3 columns]"
      ]
     },
     "execution_count": 80,
     "metadata": {},
     "output_type": "execute_result"
    }
   ],
   "source": [
    "data"
   ]
  },
  {
   "cell_type": "markdown",
   "id": "38e5c88d",
   "metadata": {},
   "source": [
    "# Feature Extraction"
   ]
  },
  {
   "cell_type": "code",
   "execution_count": 81,
   "id": "c9e8ff2c",
   "metadata": {
    "scrolled": true
   },
   "outputs": [],
   "source": [
    "vectorizer = TfidfVectorizer()"
   ]
  },
  {
   "cell_type": "code",
   "execution_count": 82,
   "id": "83a951c5",
   "metadata": {
    "scrolled": true
   },
   "outputs": [],
   "source": [
    "f=vectorizer.fit_transform(data.complaint_what_happened)"
   ]
  },
  {
   "cell_type": "code",
   "execution_count": 83,
   "id": "9e5ed495",
   "metadata": {
    "scrolled": true
   },
   "outputs": [
    {
     "data": {
      "text/html": [
       "<div>\n",
       "<style scoped>\n",
       "    .dataframe tbody tr th:only-of-type {\n",
       "        vertical-align: middle;\n",
       "    }\n",
       "\n",
       "    .dataframe tbody tr th {\n",
       "        vertical-align: top;\n",
       "    }\n",
       "\n",
       "    .dataframe thead th {\n",
       "        text-align: right;\n",
       "    }\n",
       "</style>\n",
       "<table border=\"1\" class=\"dataframe\">\n",
       "  <thead>\n",
       "    <tr style=\"text-align: right;\">\n",
       "      <th></th>\n",
       "      <th>sub_product</th>\n",
       "      <th>complaint_what_happened</th>\n",
       "      <th>sub_issue</th>\n",
       "    </tr>\n",
       "  </thead>\n",
       "  <tbody>\n",
       "    <tr>\n",
       "      <th>1</th>\n",
       "      <td>Credit card debt</td>\n",
       "      <td>Good morning name XXXX XXXX I appreciate could...</td>\n",
       "      <td>Didn't receive enough information verify debt</td>\n",
       "    </tr>\n",
       "    <tr>\n",
       "      <th>2</th>\n",
       "      <td>General-purpose credit card charge card</td>\n",
       "      <td>I upgraded XXXX XXXX card XX XX  told agent up...</td>\n",
       "      <td>Problem rewards credit card</td>\n",
       "    </tr>\n",
       "    <tr>\n",
       "      <th>10</th>\n",
       "      <td>Other personal consumer report</td>\n",
       "      <td>Chase Card reported XX XX   However  fraudulen...</td>\n",
       "      <td>Information belongs someone else</td>\n",
       "    </tr>\n",
       "    <tr>\n",
       "      <th>11</th>\n",
       "      <td>Credit reporting</td>\n",
       "      <td>On XX XX   trying book XXXX XXXX ticket  I cam...</td>\n",
       "      <td>Information belongs someone else</td>\n",
       "    </tr>\n",
       "    <tr>\n",
       "      <th>14</th>\n",
       "      <td>Checking account</td>\n",
       "      <td>grand son give check      deposit chase accoun...</td>\n",
       "      <td>Funds handled disbursed instructed</td>\n",
       "    </tr>\n",
       "    <tr>\n",
       "      <th>...</th>\n",
       "      <td>...</td>\n",
       "      <td>...</td>\n",
       "      <td>...</td>\n",
       "    </tr>\n",
       "    <tr>\n",
       "      <th>78303</th>\n",
       "      <td>General-purpose credit card charge card</td>\n",
       "      <td>After Chase Card customer well decade  offered...</td>\n",
       "      <td>Didn't receive advertised promotional terms</td>\n",
       "    </tr>\n",
       "    <tr>\n",
       "      <th>78309</th>\n",
       "      <td>General-purpose credit card charge card</td>\n",
       "      <td>On Wednesday  XX XX XXXX I called Chas  XXXX X...</td>\n",
       "      <td>Other problem</td>\n",
       "    </tr>\n",
       "    <tr>\n",
       "      <th>78310</th>\n",
       "      <td>Checking account</td>\n",
       "      <td>I familiar XXXX pay understand great risk prov...</td>\n",
       "      <td>Transaction authorized</td>\n",
       "    </tr>\n",
       "    <tr>\n",
       "      <th>78311</th>\n",
       "      <td>General-purpose credit card charge card</td>\n",
       "      <td>I flawless credit  yrs  I ve Chase credit card...</td>\n",
       "      <td>Problem balance transfer</td>\n",
       "    </tr>\n",
       "    <tr>\n",
       "      <th>78312</th>\n",
       "      <td>None</td>\n",
       "      <td>Roughly   years ago I closed accounts JP Morga...</td>\n",
       "      <td>None</td>\n",
       "    </tr>\n",
       "  </tbody>\n",
       "</table>\n",
       "<p>21072 rows × 3 columns</p>\n",
       "</div>"
      ],
      "text/plain": [
       "                                   sub_product  \\\n",
       "1                             Credit card debt   \n",
       "2      General-purpose credit card charge card   \n",
       "10              Other personal consumer report   \n",
       "11                            Credit reporting   \n",
       "14                            Checking account   \n",
       "...                                        ...   \n",
       "78303  General-purpose credit card charge card   \n",
       "78309  General-purpose credit card charge card   \n",
       "78310                         Checking account   \n",
       "78311  General-purpose credit card charge card   \n",
       "78312                                     None   \n",
       "\n",
       "                                 complaint_what_happened  \\\n",
       "1      Good morning name XXXX XXXX I appreciate could...   \n",
       "2      I upgraded XXXX XXXX card XX XX  told agent up...   \n",
       "10     Chase Card reported XX XX   However  fraudulen...   \n",
       "11     On XX XX   trying book XXXX XXXX ticket  I cam...   \n",
       "14     grand son give check      deposit chase accoun...   \n",
       "...                                                  ...   \n",
       "78303  After Chase Card customer well decade  offered...   \n",
       "78309  On Wednesday  XX XX XXXX I called Chas  XXXX X...   \n",
       "78310  I familiar XXXX pay understand great risk prov...   \n",
       "78311  I flawless credit  yrs  I ve Chase credit card...   \n",
       "78312  Roughly   years ago I closed accounts JP Morga...   \n",
       "\n",
       "                                           sub_issue  \n",
       "1      Didn't receive enough information verify debt  \n",
       "2                        Problem rewards credit card  \n",
       "10                  Information belongs someone else  \n",
       "11                  Information belongs someone else  \n",
       "14                Funds handled disbursed instructed  \n",
       "...                                              ...  \n",
       "78303    Didn't receive advertised promotional terms  \n",
       "78309                                  Other problem  \n",
       "78310                         Transaction authorized  \n",
       "78311                       Problem balance transfer  \n",
       "78312                                           None  \n",
       "\n",
       "[21072 rows x 3 columns]"
      ]
     },
     "execution_count": 83,
     "metadata": {},
     "output_type": "execute_result"
    }
   ],
   "source": [
    "data"
   ]
  },
  {
   "cell_type": "code",
   "execution_count": 84,
   "id": "2d289513",
   "metadata": {
    "scrolled": true
   },
   "outputs": [],
   "source": [
    "vocabluary=np.array(vectorizer.get_feature_names())"
   ]
  },
  {
   "cell_type": "code",
   "execution_count": 85,
   "id": "71b13f87",
   "metadata": {
    "scrolled": true
   },
   "outputs": [
    {
     "data": {
      "text/plain": [
       "(27981,)"
      ]
     },
     "execution_count": 85,
     "metadata": {},
     "output_type": "execute_result"
    }
   ],
   "source": [
    "vocabluary.shape"
   ]
  },
  {
   "cell_type": "code",
   "execution_count": 86,
   "id": "1934968e",
   "metadata": {
    "scrolled": true
   },
   "outputs": [
    {
     "data": {
      "text/plain": [
       "NMF(n_components=5, random_state=42)"
      ]
     },
     "execution_count": 86,
     "metadata": {},
     "output_type": "execute_result"
    }
   ],
   "source": [
    "from sklearn.decomposition import NMF\n",
    "n_topics = 5\n",
    "random_state = 42\n",
    "nmf = NMF(n_components=n_topics, random_state=random_state)\n",
    "nmf.fit(f)"
   ]
  },
  {
   "cell_type": "markdown",
   "id": "ceb92512",
   "metadata": {},
   "source": [
    "# Topic Modelling with the help of NMF"
   ]
  },
  {
   "cell_type": "code",
   "execution_count": 87,
   "id": "4f714435",
   "metadata": {
    "scrolled": true
   },
   "outputs": [],
   "source": [
    "## Get words from each topic \n",
    "n_top_words=10\n",
    "def get_nmf_topics(n_top_words,vocabulary,nmf):\n",
    "    for i in range(num_topics):\n",
    "        words_ids = model.components_[i].argsort()[-1:-n_top_words - 1:-1]\n",
    "        words = [feat_names[key] for key in words_ids]\n",
    "    return pd.DataFrame(word_dict);"
   ]
  },
  {
   "cell_type": "code",
   "execution_count": null,
   "id": "21c9d932",
   "metadata": {
    "scrolled": true
   },
   "outputs": [],
   "source": [
    "get_nmf_topics(10,vocabulary,nmf)"
   ]
  }
 ],
 "metadata": {
  "kernelspec": {
   "display_name": "Python 3 (ipykernel)",
   "language": "python",
   "name": "python3"
  },
  "language_info": {
   "codemirror_mode": {
    "name": "ipython",
    "version": 3
   },
   "file_extension": ".py",
   "mimetype": "text/x-python",
   "name": "python",
   "nbconvert_exporter": "python",
   "pygments_lexer": "ipython3",
   "version": "3.9.13"
  }
 },
 "nbformat": 4,
 "nbformat_minor": 5
}
